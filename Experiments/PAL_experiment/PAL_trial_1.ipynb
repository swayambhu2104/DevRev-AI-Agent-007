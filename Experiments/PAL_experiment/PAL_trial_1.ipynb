{
  "cells": [
    {
      "cell_type": "code",
      "execution_count": null,
      "metadata": {
        "colab": {
          "base_uri": "https://localhost:8080/",
          "height": 373
        },
        "id": "6W3r7wxa-nXq",
        "outputId": "b8e98d00-7c5d-4554-c67b-012092e1f4f9"
      },
      "outputs": [],
      "source": [
        "import pal\n",
        "from devrev_prompt import DEVREV_PROMPT\n",
        "import openai\n",
        "openai.api_key=\"your key here\"\n",
        "\n",
        "interface = pal.interface.ProgramInterface(\n",
        "  model='gpt-3.5-turbo',\n",
        "  stop='\\n\\n\\n', # stop generation str for Codex API # python expression evaluated after generated code to obtain answer\n",
        ")\n",
        "\n",
        "question = \"Find all tasks related to customer ABC Inc. and summarize them.\"\n",
        "prompt = DEVREV_PROMPT % question\n",
        "answer = interface.run(prompt)"
      ]
    },
    {
      "cell_type": "code",
      "execution_count": 3,
      "metadata": {
        "colab": {
          "base_uri": "https://localhost:8080/"
        },
        "id": "ddVU8QaBe5uW",
        "outputId": "fcf48cd3-6306-42de-a35d-4699e5a97325"
      },
      "outputs": [
        {
          "name": "stdout",
          "output_type": "stream",
          "text": [
            "Find all tasks related to customer ABC Inc. and summarize them.\n"
          ]
        }
      ],
      "source": [
        "print(question)"
      ]
    },
    {
      "cell_type": "code",
      "execution_count": 7,
      "metadata": {
        "colab": {
          "base_uri": "https://localhost:8080/"
        },
        "id": "I-Vxc3uK-uTp",
        "outputId": "1407768a-b9ee-48a0-8d03-9ce45b214440"
      },
      "outputs": [
        {
          "data": {
            "text/plain": [
              "['def solution():',\n",
              " '    # Find all tasks related to customer ABC Inc. and summarize them.',\n",
              " '    tasks = find_tasks(customer=\"ABC Inc.\")',\n",
              " '    summary = summarize_tasks(tasks)',\n",
              " '    return summary',\n",
              " '',\n",
              " 'def find_tasks(customer):',\n",
              " '    # code to find all tasks related to the given customer',\n",
              " '    tasks = []',\n",
              " '    for task in tasks_list:',\n",
              " '        if task.customer == customer:',\n",
              " '            tasks.append(task)',\n",
              " '    return tasks',\n",
              " '',\n",
              " 'def summarize_tasks(tasks):',\n",
              " '    # code to summarize the tasks',\n",
              " '    summary = {}',\n",
              " '    for task in tasks:',\n",
              " '        if task.status in summary:',\n",
              " '            summary[task.status] += 1',\n",
              " '        else:',\n",
              " '            summary[task.status] = 1',\n",
              " '    return summary',\n",
              " '',\n",
              " '# example usage',\n",
              " 'tasks_list = [',\n",
              " '    Task(\"Task 1\", \"ABC Inc.\", \"completed\"),',\n",
              " '    Task(\"Task 2\", \"XYZ Corp.\", \"in progress\"),',\n",
              " '    Task(\"Task 3\", \"ABC Inc.\", \"completed\"),',\n",
              " '    Task(\"Task 4\", \"ABC Inc.\", \"pending\"),',\n",
              " '    Task(\"Task 5\", \"XYZ Corp.\", \"completed\"),',\n",
              " ']',\n",
              " '',\n",
              " 'print(solution())']"
            ]
          },
          "execution_count": 7,
          "metadata": {},
          "output_type": "execute_result"
        }
      ],
      "source": [
        "answer[0]"
      ]
    }
  ],
  "metadata": {
    "colab": {
      "provenance": []
    },
    "kernelspec": {
      "display_name": "Python 3",
      "name": "python3"
    },
    "language_info": {
      "codemirror_mode": {
        "name": "ipython",
        "version": 3
      },
      "file_extension": ".py",
      "mimetype": "text/x-python",
      "name": "python",
      "nbconvert_exporter": "python",
      "pygments_lexer": "ipython3",
      "version": "3.10.12"
    }
  },
  "nbformat": 4,
  "nbformat_minor": 0
}
