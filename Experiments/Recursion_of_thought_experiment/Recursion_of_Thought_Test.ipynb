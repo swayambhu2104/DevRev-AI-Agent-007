{
  "nbformat": 4,
  "nbformat_minor": 0,
  "metadata": {
    "colab": {
      "provenance": []
    },
    "kernelspec": {
      "name": "python3",
      "display_name": "Python 3"
    },
    "language_info": {
      "name": "python"
    }
  },
  "cells": [
    {
      "cell_type": "code",
      "source": [
        "cd /content/drive/MyDrive/Team-65-main-main"
      ],
      "metadata": {
        "colab": {
          "base_uri": "https://localhost:8080/"
        },
        "id": "svihFijbdCDY",
        "outputId": "9c159a60-8792-4480-9ba9-884ab67018ec"
      },
      "execution_count": 1,
      "outputs": [
        {
          "output_type": "stream",
          "name": "stdout",
          "text": [
            "/content/drive/MyDrive/Team-65-main-main\n"
          ]
        }
      ]
    },
    {
      "cell_type": "code",
      "source": [
        "from Recursion_of_thought_experiment.Recursion_of_Thought import rot"
      ],
      "metadata": {
        "id": "Uw6qpwUxdiXU"
      },
      "execution_count": 5,
      "outputs": []
    },
    {
      "cell_type": "code",
      "source": [
        "rot(\"Retrieve work items associated with the Rev organization Rev-789 and tickets that need a response, and create a summary.\")"
      ],
      "metadata": {
        "colab": {
          "base_uri": "https://localhost:8080/"
        },
        "id": "H0rk83U6fXiF",
        "outputId": "53d2a241-eb1b-494b-9b1d-f09407f5565d"
      },
      "execution_count": 6,
      "outputs": [
        {
          "output_type": "stream",
          "name": "stdout",
          "text": [
            "1. Divide the problem into subproblems:\n",
            "\n",
            "Subproblem 1: Retrieve work items associated with the Rev organisation 'Rev-789'.\n",
            "Subproblem 2: Filter work items from Subproblem 1 to only include those that need a response.\n",
            "Subproblem 3: Create a summary of the work items obtained from Subproblem 2.\n",
            "\n",
            "2. Generate GO and STOP tokens:\n",
            "GO\n",
            "... Subproblem 1 ...\n",
            "... Subproblem 2 ...\n",
            "... Subproblem 3 ...\n",
            "STOP\n",
            "\n",
            "3. Solve each subproblem recursively:\n",
            "\n",
            "For Subproblem 1, use the \"works_list\" tool with the argument \"ticket.rev_org\" set to \"Rev-789.\"\n",
            "For Subproblem 2, use the \"works_list\" tool with the argument \"ticket.needs_response\" set to true and \"objects\" set to the output of Subproblem 1.\n",
            "Subproblem 3 does not require further division and can be solved directly using the \"summarize_objects\" tool with the argument \"objects\" set to the output of Subproblem 2.\n",
            "\n",
            "4. Use appropriate tools and combine the outputs of Subproblems 1, 2, and 3. Replace the corresponding THINK tokens with the actual results obtained from each subproblem.\n",
            "\n",
            "The final answer is the summarized list of work items associated with 'REV-789' that need a response.\n",
            "\n",
            "```json\n",
            "[\n",
            "  {\n",
            "    \"tool_name\": \"works_list\",\n",
            "    \"arguments\": [\n",
            "      {\n",
            "        \"argument_name\": \"ticket.rev_org\",\n",
            "        \"argument_value\": \"Rev-789\"\n",
            "      }\n",
            "    ]\n",
            "  },\n",
            "  {\n",
            "    \"tool_name\": \"works_list\",\n",
            "    \"arguments\": [\n",
            "      {\n",
            "        \"argument_name\": \"objects\",\n",
            "        \"argument_value\": \"$$PREV[0]\"\n",
            "      },\n",
            "      {\n",
            "        \"argument_name\": \"ticket.needs_response\",\n",
            "        \"argument_value\": \"true\"\n",
            "      }\n",
            "    ]\n",
            "  },\n",
            "  {\n",
            "    \"tool_name\": \"summarize_objects\",\n",
            "    \"arguments\": [\n",
            "      {\n",
            "        \"argument_name\": \"objects\",\n",
            "        \"argument_value\": \"$$PREV[1]\"\n",
            "      }\n",
            "    ]\n",
            "  }\n",
            "]\n",
            "```\n"
          ]
        }
      ]
    },
    {
      "cell_type": "code",
      "source": [],
      "metadata": {
        "id": "ka_nEDtBiPpZ"
      },
      "execution_count": null,
      "outputs": []
    }
  ]
}